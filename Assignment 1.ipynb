{
 "cells": [
  {
   "cell_type": "code",
   "execution_count": 2,
   "id": "5549137c",
   "metadata": {},
   "outputs": [
    {
     "name": "stdout",
     "output_type": "stream",
     "text": [
      "Min Age: 19\n",
      "Max Age: 26\n",
      "Ages list after inserting values: [19, 19, 19, 20, 22, 24, 24, 24, 25, 25, 26, 26]\n",
      "Median Age: 24.0\n",
      "Average Age: 22.75\n",
      "Range of ages : 7\n"
     ]
    }
   ],
   "source": [
    "#Question 1\n",
    "\n",
    "# List of 10 students ages\n",
    "ages = [19, 22, 19, 24, 20, 25, 26, 24, 25, 24]\n",
    "\n",
    "# Sorting the list\n",
    "ages.sort() \n",
    "\n",
    "# Min and Max age of the sudents ages list\n",
    "min_age, max_age = min(ages), max(ages) \n",
    "\n",
    "print(\"Min Age:\", min_age)\n",
    "print(\"Max Age:\", max_age)\n",
    "\n",
    "ages.insert(0,  min_age) # Insert min age at beginning\n",
    "\n",
    "ages.insert(-1, max_age) # Insert max age at end\n",
    "\n",
    "print(\"Ages list after inserting values:\", ages)\n",
    "\n",
    "# Caluculating median age\n",
    "ages_list_len = len(ages)\n",
    "mid_value  = ages_list_len//2 \n",
    "\n",
    "if ages_list_len%2==0:\n",
    "    median_age = (ages[mid_value] + ages[mid_value+1])/2\n",
    "else:\n",
    "    median_age = ages[mid_value]\n",
    "\n",
    "print(\"Median Age:\", median_age)\n",
    "\n",
    "# Average Age\n",
    "print(\"Average Age:\",sum(ages)/ages_list_len) \n",
    "\n",
    "# Range of Ages max - min\n",
    "print(f\"Range of ages :\", max_age - min_age) "
   ]
  },
  {
   "cell_type": "code",
   "execution_count": 3,
   "id": "4c658c12",
   "metadata": {},
   "outputs": [
    {
     "name": "stdout",
     "output_type": "stream",
     "text": [
      "{'name': 'Puppy', 'color': 'white', 'breed': 'Dalmatian', 'legs': 4, 'age': 10}\n",
      "{'first_name': 'Pavan', 'last_name': 'Kalyan', 'gender': 'Male', 'age': 24, 'marital_status': 'unmarried', 'skills': ['python', 'java'], 'country': 'India', 'city': 'Nuzvid'}\n",
      "Student length: 8\n",
      "Skills: ['python', 'java']\n",
      "Updated Skills: ['python', 'java', 'C#']\n",
      "Dictionary Keys: ['first_name', 'last_name', 'gender', 'age', 'marital_status', 'skills', 'country', 'city']\n",
      "Dictionary Values: ['Pavan', 'Kalyan', 'Male', 24, 'unmarried', ['python', 'java', 'C#'], 'India', 'Nuzvid']\n"
     ]
    }
   ],
   "source": [
    "#Question 2\n",
    "\n",
    "dog = dict() # An Empty dictionary dog\n",
    "\n",
    "# Adding dog's name, color, breed, legs, age\n",
    "dog['name']   = 'Puppy'\n",
    "dog['color']  = 'white'\n",
    "dog['breed']  = 'Dalmatian'\n",
    "dog['legs']   = 4\n",
    "dog['age']    = 10\n",
    "\n",
    "print(dog)\n",
    "\n",
    "# Student dictionary\n",
    "student = dict({\n",
    "    'first_name'    :'Pavan',\n",
    "    'last_name'     :'Kalyan',\n",
    "    'gender'        :'Male',\n",
    "    'age'           : 24,\n",
    "    'marital_status':'unmarried',\n",
    "    'skills'        :['python','java'],\n",
    "    'country'       :'India',\n",
    "    'city'          :'Nuzvid'\n",
    "    })\n",
    "    \n",
    "print(student)\n",
    "\n",
    "# Len of student\n",
    "print(\"Student length:\", len(student))\n",
    "\n",
    "# Get value of skills\n",
    "print(\"Skills:\", student.get('skills'))\n",
    "\n",
    "# Add new skill\n",
    "skills = student.get('skills')\n",
    "skills.append('C#')\n",
    "student['skills'] = skills\n",
    "\n",
    "print(\"Updated Skills:\", student.get('skills'))\n",
    "\n",
    "# Get keys\n",
    "print(\"Dictionary Keys:\",list(student.keys()))\n",
    "\n",
    "# Get Values\n",
    "print(\"Dictionary Values:\",list(student.values()))"
   ]
  },
  {
   "cell_type": "code",
   "execution_count": 8,
   "id": "ebdca088",
   "metadata": {},
   "outputs": [
    {
     "name": "stdout",
     "output_type": "stream",
     "text": [
      "Siblings :  ('Raghu', 'Virat', 'Arjit', 'Tiyasha', 'Kushboo')\n",
      "No.Of Siblings: 5\n",
      "Family Members Details in CASE 1: ('Yuvraj', 'Ashi', 'Raghu', 'Virat', 'Arjit', 'Tiyasha', 'Kushboo')\n",
      "Family Members Details in CASE 2: ('Raghu', 'Virat', 'Arjit', 'Tiyasha', 'Kushboo', 'Yuvraj', 'Ashi')\n"
     ]
    }
   ],
   "source": [
    "#Question 3\n",
    "\n",
    "#Two tuples of sisters and brothers data\n",
    "sisters  = ('Tiyasha', 'Kushboo',)\n",
    "brothers = ('Raghu', 'Virat', 'Arjit',)\n",
    "\n",
    "# Join brothers and sisters tuples\n",
    "siblings = brothers + sisters\n",
    "print(\"Siblings : \",siblings)\n",
    "\n",
    "# No.of siblings\n",
    "print(\"Number Of Siblings:\", len(siblings))\n",
    "\n",
    "#CASE 1: adding new tuple with parents details\n",
    "father = 'Yuvraj'\n",
    "mother = 'Ashi'\n",
    "\n",
    "parents = (father, mother,) #Assigned father & mother names to a new tuple\n",
    "\n",
    "family_members = parents+siblings # Added parents tuple with siblings tuple and assigned it to family members tuple\n",
    "\n",
    "print(\"Family Members Details in CASE 1:\",family_members)\n",
    "\n",
    "#CASE 2: Coverting siblings tuple to list and adding parents details\n",
    "temp_siblings=list(siblings) # Converted siblings tuple to list and assigned to temporary variable\n",
    "\n",
    "temp_siblings.extend([\"Yuvraj\",\"Ashi\"]) # Added father and mother names to temporary variable\n",
    "\n",
    "family_members_updated=tuple(temp_siblings) # coverted the temp variable to tuple and assigned to family members\n",
    "\n",
    "print(\"Family Members Details in CASE 2:\",family_members_updated)"
   ]
  },
  {
   "cell_type": "code",
   "execution_count": 13,
   "id": "64a33e20",
   "metadata": {},
   "outputs": [
    {
     "name": "stdout",
     "output_type": "stream",
     "text": [
      "Length of set of it_companies:  7\n",
      "{'Oracle', 'Microsoft', 'Apple', 'Amazon', 'Twitter', 'Google', 'IBM', 'Facebook'}\n",
      "{'Oracle', 'Microsoft', 'Apple', 'Infosys', 'TCS', 'Amazon', 'Twitter', 'Google', 'IBM', 'Facebook'}\n",
      "{'Oracle', 'Microsoft', 'Apple', 'Infosys', 'Amazon', 'Twitter', 'Google', 'IBM', 'Facebook'}\n",
      "A Join B :  {19, 20, 22, 24, 25, 26, 27, 28}\n",
      "A intersection B: {19, 20, 22, 24, 25, 26}\n",
      "A subset of B: True\n",
      "A disjoint set B: False\n",
      "B disjoint set A: False\n",
      "A join B: {19, 20, 22, 24, 25, 26, 27, 28}\n",
      "B join A: {19, 20, 22, 24, 25, 26, 27, 28}\n",
      "A symmetric difference B: set()\n",
      "Len of age list: 8\n",
      "Len of age set: 5\n",
      "False\n"
     ]
    }
   ],
   "source": [
    "#Question 4\n",
    "\n",
    "#Given data\n",
    "it_companies = set(['Facebook', 'Google', 'Microsoft', 'Apple', 'IBM', 'Oracle', 'Amazon'])\n",
    "A = {19, 22, 24, 20, 25, 26}\n",
    "B = {19, 22, 20, 25, 26, 24, 28, 27}\n",
    "age = [22, 19, 24, 25, 26, 24, 25, 24]\n",
    "\n",
    "\n",
    "# Length of set of it_companies\n",
    "print(\"Length of set of it_companies: \", len(it_companies))\n",
    "\n",
    "# Add 'Twitter' to it_companies\n",
    "it_companies.add('Twitter')\n",
    "print(it_companies)\n",
    "\n",
    "# Add multiple elements to it_companies\n",
    "it_companies.update(['Infosys', 'TCS'])\n",
    "print(it_companies)\n",
    "\n",
    "# Remove one element from it_companies\n",
    "it_companies.remove('TCS')\n",
    "print(it_companies)\n",
    "\n",
    "# Difference between remove() and discard()\n",
    "# remove() and discard() methods are used to remove element from the set\n",
    "# only difference is remove() will raise error if element is not present in the set\n",
    "# while discard() won't raise error\n",
    "\n",
    "# Join A and B\n",
    "print('A Join B : ', A.union(B))\n",
    "\n",
    "# A intersection B\n",
    "print('A intersection B:', A.intersection(B))\n",
    "\n",
    "# A subset of B\n",
    "print('A subset of B:', A.issubset(B))\n",
    "\n",
    "# disjoints A and B\n",
    "print('A disjoint set B:', A.isdisjoint(B))\n",
    "print('B disjoint set A:', B.isdisjoint(A))\n",
    "\n",
    "# # A join B and B join A\n",
    "A.update(B)\n",
    "print('A join B:', A)\n",
    "B.update(A)\n",
    "print('B join A:', B)\n",
    "\n",
    "# Symmetric difference\n",
    "print('A symmetric difference B:', A.symmetric_difference(B))\n",
    "\n",
    "# Delete Sets\n",
    "del A\n",
    "del B\n",
    "\n",
    "# age list and set\n",
    "age_set=set(age)\n",
    "print(\"Len of age list:\", len(age))\n",
    "print(\"Len of age set:\",len(age_set))\n",
    "print(len(age)==len(age_set))"
   ]
  },
  {
   "cell_type": "code",
   "execution_count": 14,
   "id": "6b2ffdcb",
   "metadata": {},
   "outputs": [
    {
     "name": "stdout",
     "output_type": "stream",
     "text": [
      "2827.4333882308138\n",
      "188.49555921538757\n",
      "Please enter radius of circle:30\n",
      "2827.4333882308138\n"
     ]
    }
   ],
   "source": [
    "#Question 5\n",
    "\n",
    "import math\n",
    "\n",
    "radius = 30\n",
    "\n",
    "# Area of Circle\n",
    "_area_of_circle_ = math.pi * radius**2\n",
    "print(_area_of_circle_)\n",
    "\n",
    "# Circumference of circle\n",
    "_circum_of_circle_ = 2 * math.pi * radius\n",
    "print(_circum_of_circle_)\n",
    "\n",
    "ip_radius = float(input(\"Please enter radius of circle:\"))\n",
    "_area_of_circle_ = math.pi * ip_radius**2\n",
    "print(_area_of_circle_)"
   ]
  },
  {
   "cell_type": "code",
   "execution_count": 18,
   "id": "a6e1fe69",
   "metadata": {},
   "outputs": [
    {
     "name": "stdout",
     "output_type": "stream",
     "text": [
      "Unique Words:  {'a', 'people', 'I', 'inspire', 'and', 'teach', 'teacher', 'am', 'love', 'to'}\n",
      "10\n"
     ]
    }
   ],
   "source": [
    "#Question 6\n",
    "\n",
    "ip_str = \"I am a teacher and I love to inspire and teach people\"\n",
    "\n",
    "str_list   = ip_str.split(' ') # assigned all the individual words to a list using split function\n",
    "uniq_words = set(str_list) # converted the list to set\n",
    "print(\"Unique Words: \", uniq_words)\n",
    "print(len(uniq_words))"
   ]
  },
  {
   "cell_type": "code",
   "execution_count": 19,
   "id": "32439f31",
   "metadata": {},
   "outputs": [
    {
     "name": "stdout",
     "output_type": "stream",
     "text": [
      "Name \t Age\tCountry\tCity\n",
      "Asabeneh  250 \tFinland\tHelsinki\n"
     ]
    }
   ],
   "source": [
    "#Question 7\n",
    "\n",
    "print(\"Name \\t Age\\tCountry\\tCity\")\n",
    "print(\"Asabeneh  250 \\tFinland\\tHelsinki\")"
   ]
  },
  {
   "cell_type": "code",
   "execution_count": 37,
   "id": "8695acb4",
   "metadata": {},
   "outputs": [
    {
     "name": "stdout",
     "output_type": "stream",
     "text": [
      "radius = 10\n",
      "area = 314.0 * radius **2 \n",
      "The area of a circle with radius 10 is 314.0 meters square.\n"
     ]
    }
   ],
   "source": [
    "radius = 10 #assigned radius value\n",
    "area   = 3.14 * (radius**2) # calculated the area\n",
    "\n",
    "#printing the required format using string format method\n",
    "print(\"radius = {0}\".format(radius))\n",
    "print(\"area = {0} * radius **2 \".format(area))\n",
    "print(\"The area of a circle with radius {0} is {1} meters square.\".format(radius,area))"
   ]
  },
  {
   "cell_type": "code",
   "execution_count": 40,
   "id": "c5340697",
   "metadata": {},
   "outputs": [
    {
     "name": "stdout",
     "output_type": "stream",
     "text": [
      "Enter no.of students:4\n",
      "Enter 4 weights with comma separation: 155,150,145,148\n",
      "Input List:  [155, 150, 145, 148]\n",
      "Output :  [70.29, 68.03, 65.76, 67.12]\n"
     ]
    }
   ],
   "source": [
    "#Question 9\n",
    "\n",
    "N = int(input(\"Enter no.of students:\")) # input from user\n",
    "\n",
    "# input weights requested in comma separation format and assigned in a list\n",
    "ip_list=[int(N) for N in input(\"Enter {0} weights with comma separation: \".format(N)).split(\",\")] \n",
    "\n",
    "print(\"Input List: \", ip_list)\n",
    "\n",
    "result = []\n",
    "for i in ip_list:\n",
    "    result.append(round(i/2.205,2)) #converting weights from lbs to kgs and adding to result list\n",
    "    \n",
    "print(\"Output : \",result)"
   ]
  },
  {
   "cell_type": "code",
   "execution_count": null,
   "id": "3c071dad",
   "metadata": {},
   "outputs": [],
   "source": []
  }
 ],
 "metadata": {
  "kernelspec": {
   "display_name": "Python 3 (ipykernel)",
   "language": "python",
   "name": "python3"
  },
  "language_info": {
   "codemirror_mode": {
    "name": "ipython",
    "version": 3
   },
   "file_extension": ".py",
   "mimetype": "text/x-python",
   "name": "python",
   "nbconvert_exporter": "python",
   "pygments_lexer": "ipython3",
   "version": "3.9.13"
  }
 },
 "nbformat": 4,
 "nbformat_minor": 5
}
