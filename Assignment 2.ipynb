{
 "cells": [
  {
   "cell_type": "code",
   "execution_count": 48,
   "id": "97b7dab2",
   "metadata": {},
   "outputs": [
    {
     "name": "stdout",
     "output_type": "stream",
     "text": [
      "* \r\n",
      "* * \r\n",
      "* * * \r\n",
      "* * * * \r\n",
      "* * * * * \r\n",
      "* * * * \r\n",
      "* * * \r\n",
      "* * \r\n",
      "* \r\n",
      "\r\n"
     ]
    }
   ],
   "source": [
    "#Question 1\n",
    "\n",
    "Rows=5 #Given number of rows\n",
    "\n",
    "#outer loop to handle number of rows(0 to Rows)\n",
    "for i in range(0,Rows):  \n",
    "    #inner loop to handle number of columns\n",
    "    for j in range(0,i+1):\n",
    "        #printing stars with a space\n",
    "        print(\"*\",end=' ')\n",
    "        #ending line after each row\n",
    "    print(\"\\r\")\n",
    "#outer loop with decreasing row count(Rows to 0)\n",
    "for i in range(Rows, 0, -1):\n",
    "    #inner loop with number of columns\n",
    "    for j in range(0,i-1):\n",
    "        print(\"*\",end=' ')\n",
    "    print(\"\\r\")"
   ]
  },
  {
   "cell_type": "code",
   "execution_count": 49,
   "id": "3f2f6454",
   "metadata": {},
   "outputs": [
    {
     "name": "stdout",
     "output_type": "stream",
     "text": [
      "20 40 60 80 100 "
     ]
    }
   ],
   "source": [
    "#Question 2\n",
    "# Input list\n",
    "my_list = [10, 20, 30, 40, 50, 60, 70, 80, 90, 100]\n",
    "#loop with range from 0 to length of the list\n",
    "for i in range(0,len(my_list)):\n",
    "    # condition to check if the index value is odd or not\n",
    "    if i%2==1:\n",
    "        # printing odd index values\n",
    "        print(my_list[i],end=\" \")"
   ]
  },
  {
   "cell_type": "code",
   "execution_count": 50,
   "id": "b6b52265",
   "metadata": {},
   "outputs": [
    {
     "name": "stdout",
     "output_type": "stream",
     "text": [
      "[23, 'Python', 23.98]\n",
      "[<class 'int'>, <class 'str'>, <class 'float'>]\n"
     ]
    }
   ],
   "source": [
    "#Question 3\n",
    "# given input list\n",
    "x = [23,'Python',23.98]\n",
    "#empty list\n",
    "temp=[]\n",
    "# looping with each element in list\n",
    "for i in x:\n",
    "    # appending each element type in to the empty list\n",
    "    temp.append(type(i))\n",
    "print(x)\n",
    "print(temp)"
   ]
  },
  {
   "cell_type": "code",
   "execution_count": 51,
   "id": "d3692d43",
   "metadata": {},
   "outputs": [
    {
     "name": "stdout",
     "output_type": "stream",
     "text": [
      "[1, 2, 3, 4, 5, 6]\n"
     ]
    }
   ],
   "source": [
    "#Question 4\n",
    "#given input list\n",
    "sample_list=[1,2,3,3,3,3,4,4,5,6]\n",
    "# function accepting a list as parameter\n",
    "def my_function(sample_list):\n",
    "    #Empty list\n",
    "    unique_list=[]\n",
    "    # looping with each item in list\n",
    "    for i in sample_list:\n",
    "        # checking whether the current item is in unique list or not\n",
    "        if i not in unique_list:\n",
    "            # appending each unique value into the unique_list\n",
    "            unique_list.append(i)\n",
    "    # returning the resultant list\n",
    "    return unique_list\n",
    "\n",
    "print(my_function(sample_list))"
   ]
  },
  {
   "cell_type": "code",
   "execution_count": 52,
   "id": "005f1b82",
   "metadata": {},
   "outputs": [
    {
     "name": "stdout",
     "output_type": "stream",
     "text": [
      "No. of Upper-case characters: 3 \n",
      "No. of Lower-case characters: 12\n"
     ]
    }
   ],
   "source": [
    "#Question 5\n",
    "# given input string\n",
    "input_string='The quick Brow Fox'\n",
    "# function accepting a string as parameter\n",
    "def my_function(s):\n",
    "    upper_case,lower_case=0,0\n",
    "    # looping with each item in list\n",
    "    for i in s:\n",
    "        # checking whether character is a upper case and increasing count\n",
    "        if(i.isupper()):\n",
    "            upper_case+=1\n",
    "        # checking whether character is a lower case and increasing count\n",
    "        elif(i.islower()):\n",
    "            lower_case+=1\n",
    "        else:\n",
    "            pass\n",
    "    # printing the desired output by using string formating\n",
    "    print(\"No. of Upper-case characters: {0} \\nNo. of Lower-case characters: {1}\".format(upper_case,lower_case))\n",
    "# calling the function with input string as parameter\n",
    "my_function(input_string)"
   ]
  },
  {
   "cell_type": "code",
   "execution_count": null,
   "id": "b5c75a40",
   "metadata": {},
   "outputs": [],
   "source": []
  }
 ],
 "metadata": {
  "kernelspec": {
   "display_name": "Python 3 (ipykernel)",
   "language": "python",
   "name": "python3"
  },
  "language_info": {
   "codemirror_mode": {
    "name": "ipython",
    "version": 3
   },
   "file_extension": ".py",
   "mimetype": "text/x-python",
   "name": "python",
   "nbconvert_exporter": "python",
   "pygments_lexer": "ipython3",
   "version": "3.9.13"
  }
 },
 "nbformat": 4,
 "nbformat_minor": 5
}
